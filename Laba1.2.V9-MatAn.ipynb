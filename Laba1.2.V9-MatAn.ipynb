{
 "cells": [
  {
   "cell_type": "code",
   "execution_count": 652,
   "metadata": {},
   "outputs": [],
   "source": [
    "import matplotlib.pyplot as plt\n",
    "import numpy as np\n",
    "import math\n",
    "from random import randint"
   ]
  },
  {
   "cell_type": "code",
   "execution_count": 653,
   "metadata": {},
   "outputs": [],
   "source": [
    "\n",
    "def Func(x): #Задаём функцию.\n",
    "    global F, flagL, flagR\n",
    "    flagL, flagR = 0, 0\n",
    "\n",
    "    \n",
    "    F = x**2\n",
    "    if F == math.cos(x):\n",
    "        flagL, flagR  = math.pi/2, math.pi/2\n",
    "        #return x**8/(8*7*6*5*4*3*2) - x**6/(6*5*4*3*2) + x**4/(4*3*2) - x**2/2 + 1\n",
    "    elif F == math.sin(x): \n",
    "        flagL, flagR = math.pi/2, 0\n",
    "        #return x**9/(9*8*7*6*5*4*3*2) - x**7/(7*6*5*4*3*2) + x**5/(5*4*3*2) - x**3/(3*2) + x\n",
    "    elif F == math.cos(2*x): \n",
    "        flagL, flagR = math.pi/2, math.pi/2\n",
    "    elif F == math.sin(2*x): \n",
    "        flagL, flagR = math.pi/2, 0\n",
    "\n",
    "    return F\n",
    "\n",
    "Lgr, Rgr = -4, 5\n",
    "Lit, Rit = -3, 0\n",
    "n = 0.5"
   ]
  },
  {
   "cell_type": "code",
   "execution_count": 654,
   "metadata": {},
   "outputs": [
    {
     "name": "stdout",
     "output_type": "stream",
     "text": [
      "\n",
      "11.375\n"
     ]
    },
    {
     "data": {
      "image/png": "[encoded data removed]",
      "text/plain": [
       "<Figure size 640x480 with 1 Axes>"
      ]
     },
     "metadata": {},
     "output_type": "display_data"
    }
   ],
   "source": [
    "\n",
    "x = np.arange(Lgr, Rgr, 0.01) #Для триганометрии лучше брать маленькие числа\n",
    "#рисуем нашу функцию\n",
    "plt.plot(x, list(map(Func, x)))\n",
    "plt.grid(True)\n",
    "\n",
    "\n",
    "# #рисуем столбцы сумм Дарбу\n",
    "# n = 0.3 # \"Ширина столбца\"\n",
    "\n",
    "xN = np.arange(Lit, Rit, n) #Начало и конец промежутка суммы Дарбу\n",
    "\n",
    "\n",
    "\n",
    "def draw_min(): #Рисуем нижнюю Дарбу\n",
    "    global n\n",
    "    summa = 0\n",
    "    xD, yD = [], [] #значения для x и y по Дарбу\n",
    "    for i in xN:\n",
    "        if (i >= flagR): #Дарбу справа f - НЕ Триг\n",
    "            if (i + n) > max(xN):\n",
    "                n = abs(Rit - i)\n",
    "            xD.append(i);xD.append(i);xD.append(i+n);xD.append(i+n)\n",
    "            yD.append(0);yD.append(Func(i));yD.append(Func(i));yD.append(0)\n",
    "            summa += n*(math.fabs(Func(i)))\n",
    "        \n",
    "        elif (i < flagL): #Дарбу слева f - НЕ Триг\n",
    "            if (i + n) > max(xN):\n",
    "                n = abs(Rit - i)\n",
    "            xD.append(i);xD.append(i);xD.append(i-n);xD.append(i-n)\n",
    "            yD.append(0);yD.append(Func(i));yD.append(Func(i));yD.append(0)\n",
    "            summa += n*(math.fabs(Func(i+n)))\n",
    "    print(summa)\n",
    "    plt.plot(xD, yD)\n",
    "\n",
    "\n",
    "def draw_max(): #Рисуем верхнюю Дарбу\n",
    "    global n, Trig\n",
    "    print()\n",
    "    summa = 0\n",
    "    #print(Mn, Bn)\n",
    "    xD, yD = [], [] #значения для x и y по Дарбу\n",
    "\n",
    "    for i in xN:\n",
    "        if (i >= flagR): #Дарбу справа f - НЕ Триг\n",
    "            if (i + n) > max(xN):\n",
    "                n = abs(Rit - i)\n",
    "            xD.append(i);xD.append(i);xD.append(i+n);xD.append(i+n)\n",
    "            yD.append(0);yD.append(Func(i+n));yD.append(Func(i+n));yD.append(0)\n",
    "            summa += n*(math.fabs(Func(i)))\n",
    "            \n",
    "        elif (i < flagL): #Дарбу слева f - НЕ Триг\n",
    "            if (i + n) > max(xN):\n",
    "                n = abs(Rit - i)\n",
    "            xD.append(i);xD.append(i);xD.append(i+n);xD.append(i+n)\n",
    "            yD.append(0);yD.append(Func(i));yD.append(Func(i));yD.append(0)\n",
    "            summa += n*(math.fabs(Func(i)))\n",
    "        else:\n",
    "            pass\n",
    "\n",
    "    print(summa)\n",
    "    plt.plot(xD, yD)\n",
    "\n",
    "#draw_min() # Нарисовать и посчитать нижнюю Дарбу\n",
    "draw_max() # Нарисовать и посчитать верхнюю Дарбу\n",
    "plt.show()"
   ]
  },
  {
   "cell_type": "code",
   "execution_count": 655,
   "metadata": {},
   "outputs": [
    {
     "ename": "TypeError",
     "evalue": "only length-1 arrays can be converted to Python scalars",
     "output_type": "error",
     "traceback": [
      "\u001b[0;31m---------------------------------------------------------------------------\u001b[0m",
      "\u001b[0;31mTypeError\u001b[0m                                 Traceback (most recent call last)",
      "Cell \u001b[0;32mIn[655], line 5\u001b[0m\n\u001b[1;32m      3\u001b[0m x \u001b[38;5;241m=\u001b[39m np\u001b[38;5;241m.\u001b[39marange(Lgr, Rgr, \u001b[38;5;241m0.01\u001b[39m) \u001b[38;5;66;03m#Для триганометрии лучше брать маленькие числа\u001b[39;00m\n\u001b[1;32m      4\u001b[0m \u001b[38;5;66;03m#рисуем нашу функцию\u001b[39;00m\n\u001b[0;32m----> 5\u001b[0m plt\u001b[38;5;241m.\u001b[39mplot(x, \u001b[43mFunc\u001b[49m\u001b[43m(\u001b[49m\u001b[43mx\u001b[49m\u001b[43m)\u001b[49m)\n\u001b[1;32m      6\u001b[0m plt\u001b[38;5;241m.\u001b[39mgrid(\u001b[38;5;28;01mTrue\u001b[39;00m)\n\u001b[1;32m      8\u001b[0m \u001b[38;5;66;03m#рисуем столбцы сумм Дарбу\u001b[39;00m\n",
      "Cell \u001b[0;32mIn[653], line 7\u001b[0m, in \u001b[0;36mFunc\u001b[0;34m(x)\u001b[0m\n\u001b[1;32m      3\u001b[0m flagL, flagR \u001b[38;5;241m=\u001b[39m \u001b[38;5;241m0\u001b[39m, \u001b[38;5;241m0\u001b[39m\n\u001b[1;32m      6\u001b[0m F \u001b[38;5;241m=\u001b[39m x\u001b[38;5;241m*\u001b[39m\u001b[38;5;241m*\u001b[39m\u001b[38;5;241m2\u001b[39m\n\u001b[0;32m----> 7\u001b[0m \u001b[38;5;28;01mif\u001b[39;00m F \u001b[38;5;241m==\u001b[39m \u001b[43mmath\u001b[49m\u001b[38;5;241;43m.\u001b[39;49m\u001b[43mcos\u001b[49m\u001b[43m(\u001b[49m\u001b[43mx\u001b[49m\u001b[43m)\u001b[49m:\n\u001b[1;32m      8\u001b[0m     flagL, flagR  \u001b[38;5;241m=\u001b[39m math\u001b[38;5;241m.\u001b[39mpi\u001b[38;5;241m/\u001b[39m\u001b[38;5;241m2\u001b[39m, math\u001b[38;5;241m.\u001b[39mpi\u001b[38;5;241m/\u001b[39m\u001b[38;5;241m2\u001b[39m\n\u001b[1;32m      9\u001b[0m     \u001b[38;5;66;03m#return x**8/(8*7*6*5*4*3*2) - x**6/(6*5*4*3*2) + x**4/(4*3*2) - x**2/2 + 1\u001b[39;00m\n",
      "\u001b[0;31mTypeError\u001b[0m: only length-1 arrays can be converted to Python scalars"
     ]
    }
   ],
   "source": [
    "#Всё тоже самое, то теперь делаем задание 1.2 2) Считаем интеграл через случаыйе Эпсилон\n",
    "plt. close()\n",
    "x = np.arange(Lgr, Rgr, 0.01) #Для триганометрии лучше брать маленькие числа\n",
    "#рисуем нашу функцию\n",
    "plt.plot(x, list(map(Func, x)))\n",
    "plt.grid(True)\n",
    "\n",
    "#рисуем столбцы сумм Дарбу\n",
    "n = 0.7\n",
    "xN = np.arange(Lit, Rit, n) #Начало и конец промежутка суммы Дарбу\n",
    "\n",
    "\n",
    "def draw(): #Рисуем верхнюю Дарбу\n",
    "    global n\n",
    "\n",
    "    summa = 0\n",
    "    #print(Mn, Bn)\n",
    "    xD, yD = [], [] #значения для x и y по Дарбу\n",
    "    for i in xN:\n",
    "        Eps = randint(0, n*1000) #Случайное отклонение Эпсилон\n",
    "        Eps = Eps/1000\n",
    "        # Eps = n/2       #Средняя сумма\n",
    "\n",
    "        if (i + n) > max(xN):\n",
    "            n = abs(Rit - i)\n",
    "            \n",
    "        xD.append(i);xD.append(i);xD.append(i+n);xD.append(i+n)\n",
    "        yD.append(0);yD.append(Func(i+Eps));yD.append(Func(i+Eps));yD.append(0)\n",
    "        summa += n*(math.fabs(Func(i+Eps)))\n",
    "\n",
    "    print(summa)\n",
    "    plt.plot(xD, yD)\n",
    "\n",
    "draw() # Нарисовать и посчитать со случайным оснащением\n",
    "print()\n",
    "plt.show()"
   ]
  },
  {
   "cell_type": "code",
   "execution_count": null,
   "metadata": {},
   "outputs": [
    {
     "ename": "TypeError",
     "evalue": "only length-1 arrays can be converted to Python scalars",
     "output_type": "error",
     "traceback": [
      "\u001b[0;31m---------------------------------------------------------------------------\u001b[0m",
      "\u001b[0;31mTypeError\u001b[0m                                 Traceback (most recent call last)",
      "Cell \u001b[0;32mIn[594], line 5\u001b[0m\n\u001b[1;32m      3\u001b[0m x \u001b[38;5;241m=\u001b[39m np\u001b[38;5;241m.\u001b[39marange(Lgr, Rgr, \u001b[38;5;241m0.01\u001b[39m) \u001b[38;5;66;03m#Для триганометрии рекомендую брать маленькие числа\u001b[39;00m\n\u001b[1;32m      4\u001b[0m \u001b[38;5;66;03m#рисуем нашу функцию\u001b[39;00m\n\u001b[0;32m----> 5\u001b[0m plt\u001b[38;5;241m.\u001b[39mplot(x, \u001b[43mFunc\u001b[49m\u001b[43m(\u001b[49m\u001b[43mx\u001b[49m\u001b[43m)\u001b[49m)\n\u001b[1;32m      6\u001b[0m plt\u001b[38;5;241m.\u001b[39mgrid(\u001b[38;5;28;01mTrue\u001b[39;00m)\n\u001b[1;32m      8\u001b[0m \u001b[38;5;66;03m#рисуем столбцы сумм Дарбу\u001b[39;00m\n",
      "Cell \u001b[0;32mIn[591], line 6\u001b[0m, in \u001b[0;36mFunc\u001b[0;34m(x)\u001b[0m\n\u001b[1;32m      3\u001b[0m flagL, flagR \u001b[38;5;241m=\u001b[39m \u001b[38;5;241m0\u001b[39m, \u001b[38;5;241m0\u001b[39m\n\u001b[1;32m      4\u001b[0m Tig \u001b[38;5;241m=\u001b[39m \u001b[38;5;241m1\u001b[39m\n\u001b[0;32m----> 6\u001b[0m F \u001b[38;5;241m=\u001b[39m \u001b[43mmath\u001b[49m\u001b[38;5;241;43m.\u001b[39;49m\u001b[43msin\u001b[49m\u001b[43m(\u001b[49m\u001b[38;5;241;43m2\u001b[39;49m\u001b[38;5;241;43m*\u001b[39;49m\u001b[43mx\u001b[49m\u001b[43m)\u001b[49m\n\u001b[1;32m      7\u001b[0m \u001b[38;5;28;01mif\u001b[39;00m F \u001b[38;5;241m==\u001b[39m math\u001b[38;5;241m.\u001b[39mcos(x):\n\u001b[1;32m      8\u001b[0m     flagL, flagR, flagL1, flagR1  \u001b[38;5;241m=\u001b[39m \u001b[38;5;241m0\u001b[39m, math\u001b[38;5;241m.\u001b[39mpi\u001b[38;5;241m/\u001b[39m\u001b[38;5;241m2\u001b[39m, \u001b[38;5;241m0\u001b[39m\n",
      "\u001b[0;31mTypeError\u001b[0m: only length-1 arrays can be converted to Python scalars"
     ]
    }
   ],
   "source": [
    "#Всё тоже самое, то теперь делаем задание 1.2 3) Считаем интеграл через метод трапеций\n",
    "plt. close()\n",
    "x = np.arange(Lgr, Rgr, 0.01) #Для триганометрии рекомендую брать маленькие числа\n",
    "#рисуем нашу функцию\n",
    "plt.plot(x, list(map(Func, x)))\n",
    "plt.grid(True)\n",
    "\n",
    "#рисуем столбцы сумм Дарбу\n",
    "n = 1.3 # \"Ширина столбца\"\n",
    "xN = np.arange(Lit, Rit, n) #Начало и конец промежутка суммы Дарбу\n",
    "\n",
    "\n",
    "def draw(): #Рисуем верхнюю Дарбу\n",
    "    global n\n",
    "\n",
    "    summa = 0\n",
    "    xD, yD = [], [] #значения для x и y по Дарбу\n",
    "    for i in xN:\n",
    "        if (i >= flagR): #Дарбу справа f - НЕ Триг\n",
    "            if (i + n) > max(xN):\n",
    "                n = abs(Rit - i)\n",
    "\n",
    "            xD.append(i);xD.append(i);xD.append(i+n);xD.append(i+n)\n",
    "            yD.append(0);yD.append(Func(i));yD.append(Func(i+n));yD.append(0)\n",
    "            summa += (n*((float(math.fabs(Func(i))))+float(math.fabs(Func(i+n))))*(1/2))\n",
    "        elif (i < flagL): #Дарбу слева f - НЕ Триг\n",
    "            if (i + n) > max(xN):\n",
    "                n = abs(Rit - i)\n",
    "            xD.append(i);xD.append(i);xD.append(i+n);xD.append(i+n)\n",
    "            yD.append(0);yD.append(Func(i));yD.append(Func(i+n));yD.append(0)\n",
    "            summa += (n*((float(math.fabs(Func(i))))+float(math.fabs(Func(i+n))))*(1/2))\n",
    "        else:\n",
    "            pass\n",
    "\n",
    "    print(summa)\n",
    "    plt.plot(xD, yD)\n",
    "\n",
    "draw() # Нарисовать и посчитать со случайным оснащением\n",
    "print()\n",
    "plt.show()"
   ]
  }
 ],
 "metadata": {
  "kernelspec": {
   "display_name": "Python 3",
   "language": "python",
   "name": "python3"
  },
  "language_info": {
   "codemirror_mode": {
    "name": "ipython",
    "version": 3
   },
   "file_extension": ".py",
   "mimetype": "text/x-python",
   "name": "python",
   "nbconvert_exporter": "python",
   "pygments_lexer": "ipython3",
   "version": "3.9.2"
  }
 },
 "nbformat": 4,
 "nbformat_minor": 2
}
